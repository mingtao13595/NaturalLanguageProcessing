{
 "cells": [
  {
   "cell_type": "code",
   "execution_count": null,
   "metadata": {},
   "outputs": [],
   "source": [
    "# coding: UTF-8\n",
    "#!/usr/bin/env python\n",
    "\n",
    "import MeCab\n",
    "import re\n",
    "import json\n",
    "import numpy as np\n",
    "import matplotlib.pyplot as plt\n",
    "\n",
    "def gets_surface(list):\n",
    "\tsurface_list = []\n",
    "\tfor line in list:\n",
    "\t\tsurface_list.extend([str(line.get(\"surface\"))])\n",
    "\tsurface_list = sorted(surface_list)\n",
    "\treturn surface_list\n",
    "\n",
    "def deplicate_delete(list):\n",
    "\tfrequency_list = {}\n",
    "\tdeplicate_delete_list = set(list)\n",
    "\tfor word in deplicate_delete_list:\n",
    "\t\tfrequency_list[word] = 0\n",
    "\treturn frequency_list\n",
    "\n",
    "def gets_frequency(item_list, surface_list):\n",
    "\tfor word in surface_list:\n",
    "\t\titem_list[word] += 1\n",
    "\n",
    "\tfrequency_list = {}\n",
    "\tfor k, v in sorted(item_list.items(), key=lambda x: -x[1]):\n",
    "\t\tfrequency_list[k] = v\n",
    "\n",
    "\treturn frequency_list\n",
    "\n",
    "def top_ten(list):\n",
    "\ttop_ten_list = {}\n",
    "\tfor k, v in list.items():\n",
    "\t\tif len(top_ten_list) == 10:\n",
    "\t\t\treturn top_ten_list\n",
    "\t\tif (k != '*')&(k != '。')&(k != '、'):\n",
    "\t\t\ttop_ten_list[k] = v\n",
    "\n",
    "try:\n",
    "\t# ローカルJSONファイルの読み込み\n",
    "\twith open('./file/ex30_practice.json', 'r') as f:\n",
    "\t\tdata = json.load(f)\n",
    "\t\tsurface_list         = gets_surface(data)\n",
    "\t\temply_frequency_list = deplicate_delete(surface_list)\n",
    "\t\tfrequency_list       = gets_frequency(emply_frequency_list, surface_list)\n",
    "\t\ttop_ten_list         = top_ten(frequency_list)\n",
    "\n",
    "\t\t# createdata\n",
    "\t\tx = np.arange(top_ten_list, top_ten_list, 1000)\n",
    "\t\ty = np.x\n",
    "\n",
    "\t\t# display graph\n",
    "\t\tplt.plot(x, y)\n",
    "\t\tplt.show()\n",
    "\t\t# plt.pause()\n",
    "\n",
    "\t\tprint(top_ten_list)\n",
    "except json.JSONDecodeError as e:\n",
    "\tprint('JSONDecodeError: ', e)\n"
   ]
  },
  {
   "cell_type": "code",
   "execution_count": null,
   "metadata": {
    "collapsed": true
   },
   "outputs": [],
   "source": []
  },
  {
   "cell_type": "code",
   "execution_count": null,
   "metadata": {
    "collapsed": true
   },
   "outputs": [],
   "source": []
  }
 ],
 "metadata": {
  "kernelspec": {
   "display_name": "Python 3",
   "language": "python",
   "name": "python3"
  },
  "language_info": {
   "codemirror_mode": {
    "name": "ipython",
    "version": 3
   },
   "file_extension": ".py",
   "mimetype": "text/x-python",
   "name": "python",
   "nbconvert_exporter": "python",
   "pygments_lexer": "ipython3",
   "version": "3.6.1"
  }
 },
 "nbformat": 4,
 "nbformat_minor": 2
}
