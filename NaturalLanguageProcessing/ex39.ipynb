{
 "cells": [
  {
   "cell_type": "code",
   "execution_count": 3,
   "metadata": {
    "scrolled": true
   },
   "outputs": [
    {
     "data": {
      "image/png": "[encoded data removed]",
      "text/plain": [
       "<matplotlib.figure.Figure at 0x7f7c9b693fd0>"
      ]
     },
     "metadata": {},
     "output_type": "display_data"
    }
   ],
   "source": [
    "# coding: UTF-8\n",
    "#!/usr/bin/env python\n",
    "\n",
    "import MeCab\n",
    "import re\n",
    "import json\n",
    "import numpy as np\n",
    "import matplotlib.pyplot as plt\n",
    "from matplotlib.font_manager import FontProperties\n",
    "\n",
    "def gets_surface(list):\n",
    "\tsurface_list = []\n",
    "\tfor line in list:\n",
    "\t\tsurface_list.extend([str(line.get(\"surface\"))])\n",
    "\tsurface_list = sorted(surface_list)\n",
    "\treturn surface_list\n",
    "\n",
    "def deplicate_delete(list):\n",
    "\tfrequency_list = {}\n",
    "\tdeplicate_delete_list = set(list)\n",
    "\tfor word in deplicate_delete_list:\n",
    "\t\tfrequency_list[word] = 0\n",
    "\treturn frequency_list\n",
    "\n",
    "def gets_frequency(item_list, surface_list):\n",
    "\tfor word in surface_list:\n",
    "\t\titem_list[word] += 1\n",
    "\n",
    "\tfrequency_list = {}\n",
    "\tfor k, v in sorted(item_list.items(), key=lambda x: -x[1]):\n",
    "\t\tfrequency_list[k] = v\n",
    "\n",
    "\treturn frequency_list\n",
    "\n",
    "def gets_frequency_num(list, number):\n",
    "\ttop_ten_list = {}\n",
    "\tfor k, v in list.items():\n",
    "\t\tif len(top_ten_list) == number:\n",
    "\t\t\treturn top_ten_list\n",
    "\t\tif (k != '*')&(k != '。')&(k != '、'):\n",
    "\t\t\ttop_ten_list[k] = v\n",
    "\n",
    "def plot_function(list):\n",
    "\n",
    "\twords  = []\n",
    "\tcounts = []\n",
    "\tnumber = []\n",
    "\tcount = 0\n",
    "\tfor k,v in list.items():\n",
    "\t\twords.extend(k)\n",
    "\t\tcounts.extend([v])\n",
    "\t\tnumber.extend([count])\n",
    "\t\tcount += 1\n",
    "\n",
    "\t# グラフで使うフォント情報(デフォルトのままでは日本語が表示できない)\n",
    "\tfp = FontProperties(\n",
    "\t\tfname='/usr/share/fonts/migu-1p-20150712/migu-1p-regular.ttf'\n",
    "\t)\n",
    "\n",
    "\tsize = len(list)\n",
    "\n",
    "\t# 散布図のデータ指定\n",
    "\tplt.scatter(\n",
    "\t\trange(1, len(counts) + 1),\n",
    "\t\tcounts\n",
    "\t)\n",
    "\n",
    "\tplt.xlim(1, len(counts) + 1)\n",
    "\tplt.ylim(1, counts[0])\n",
    "\n",
    "\tplt.xscale('log')\n",
    "\tplt.yscale('log')\n",
    "\n",
    "\tplt.title(\"39. Zipfの法則\", fontproperties=fp)\n",
    "\tplt.xlabel('出現度順位', fontproperties=fp)\n",
    "\tplt.ylabel('出現頻度', fontproperties=fp)\n",
    "\tplt.grid(axis='both')\n",
    "\n",
    "\tplt.show()\n",
    "\n",
    "try:\n",
    "\t# ローカルJSONファイルの読み込み\n",
    "\twith open('./file/ex30_practice.json', 'r') as f:\n",
    "\t\tdata = json.load(f)\n",
    "\t\tsurface_list         = gets_surface(data)\n",
    "\t\temply_frequency_list = deplicate_delete(surface_list)\n",
    "\t\tfrequency_list       = gets_frequency(emply_frequency_list, surface_list)\n",
    "\t\t# print(frequency_list)\n",
    "\t\t# top_list             = gets_frequency_num(frequency_list, 30)\n",
    "\t\tplot_function(frequency_list)\n",
    "\n",
    "except json.JSONDecodeError as e:\n",
    "\tprint('JSONDecodeError: ', e)\n"
   ]
  },
  {
   "cell_type": "code",
   "execution_count": null,
   "metadata": {
    "collapsed": true
   },
   "outputs": [],
   "source": []
  }
 ],
 "metadata": {
  "kernelspec": {
   "display_name": "Python 3",
   "language": "python",
   "name": "python3"
  },
  "language_info": {
   "codemirror_mode": {
    "name": "ipython",
    "version": 3
   },
   "file_extension": ".py",
   "mimetype": "text/x-python",
   "name": "python",
   "nbconvert_exporter": "python",
   "pygments_lexer": "ipython3",
   "version": "3.6.1"
  }
 },
 "nbformat": 4,
 "nbformat_minor": 2
}
